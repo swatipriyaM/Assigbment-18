{
 "cells": [
  {
   "cell_type": "code",
   "execution_count": 43,
   "id": "2817233f",
   "metadata": {},
   "outputs": [],
   "source": [
    "# import libreries\n",
    "import pandas as pd\n",
    "import numpy as np\n",
    "import matplotlib.pyplot as plt\n",
    "import seaborn as sns\n",
    "import warnings\n",
    "warnings.filterwarnings('ignore')\n"
   ]
  },
  {
   "cell_type": "code",
   "execution_count": 44,
   "id": "6ae9b472",
   "metadata": {},
   "outputs": [],
   "source": [
    "# Importing store data\n",
    "store = pd.read_excel('CocaCola_Sales_Rawdata.xlsx')\n"
   ]
  },
  {
   "cell_type": "code",
   "execution_count": 45,
   "id": "0f71886e",
   "metadata": {},
   "outputs": [
    {
     "data": {
      "text/html": [
       "<div>\n",
       "<style scoped>\n",
       "    .dataframe tbody tr th:only-of-type {\n",
       "        vertical-align: middle;\n",
       "    }\n",
       "\n",
       "    .dataframe tbody tr th {\n",
       "        vertical-align: top;\n",
       "    }\n",
       "\n",
       "    .dataframe thead th {\n",
       "        text-align: right;\n",
       "    }\n",
       "</style>\n",
       "<table border=\"1\" class=\"dataframe\">\n",
       "  <thead>\n",
       "    <tr style=\"text-align: right;\">\n",
       "      <th></th>\n",
       "      <th>Quarter</th>\n",
       "      <th>Sales</th>\n",
       "    </tr>\n",
       "  </thead>\n",
       "  <tbody>\n",
       "    <tr>\n",
       "      <th>0</th>\n",
       "      <td>Q1_86</td>\n",
       "      <td>1734.827000</td>\n",
       "    </tr>\n",
       "    <tr>\n",
       "      <th>1</th>\n",
       "      <td>Q2_86</td>\n",
       "      <td>2244.960999</td>\n",
       "    </tr>\n",
       "    <tr>\n",
       "      <th>2</th>\n",
       "      <td>Q3_86</td>\n",
       "      <td>2533.804993</td>\n",
       "    </tr>\n",
       "    <tr>\n",
       "      <th>3</th>\n",
       "      <td>Q4_86</td>\n",
       "      <td>2154.962997</td>\n",
       "    </tr>\n",
       "    <tr>\n",
       "      <th>4</th>\n",
       "      <td>Q1_87</td>\n",
       "      <td>1547.818996</td>\n",
       "    </tr>\n",
       "    <tr>\n",
       "      <th>5</th>\n",
       "      <td>Q2_87</td>\n",
       "      <td>2104.411995</td>\n",
       "    </tr>\n",
       "    <tr>\n",
       "      <th>6</th>\n",
       "      <td>Q3_87</td>\n",
       "      <td>2014.362999</td>\n",
       "    </tr>\n",
       "    <tr>\n",
       "      <th>7</th>\n",
       "      <td>Q4_87</td>\n",
       "      <td>1991.746998</td>\n",
       "    </tr>\n",
       "    <tr>\n",
       "      <th>8</th>\n",
       "      <td>Q1_88</td>\n",
       "      <td>1869.049999</td>\n",
       "    </tr>\n",
       "    <tr>\n",
       "      <th>9</th>\n",
       "      <td>Q2_88</td>\n",
       "      <td>2313.631996</td>\n",
       "    </tr>\n",
       "    <tr>\n",
       "      <th>10</th>\n",
       "      <td>Q3_88</td>\n",
       "      <td>2128.320000</td>\n",
       "    </tr>\n",
       "    <tr>\n",
       "      <th>11</th>\n",
       "      <td>Q4_88</td>\n",
       "      <td>2026.828999</td>\n",
       "    </tr>\n",
       "    <tr>\n",
       "      <th>12</th>\n",
       "      <td>Q1_89</td>\n",
       "      <td>1910.603996</td>\n",
       "    </tr>\n",
       "    <tr>\n",
       "      <th>13</th>\n",
       "      <td>Q2_89</td>\n",
       "      <td>2331.164993</td>\n",
       "    </tr>\n",
       "    <tr>\n",
       "      <th>14</th>\n",
       "      <td>Q3_89</td>\n",
       "      <td>2206.549995</td>\n",
       "    </tr>\n",
       "    <tr>\n",
       "      <th>15</th>\n",
       "      <td>Q4_89</td>\n",
       "      <td>2173.967995</td>\n",
       "    </tr>\n",
       "    <tr>\n",
       "      <th>16</th>\n",
       "      <td>Q1_90</td>\n",
       "      <td>2148.278000</td>\n",
       "    </tr>\n",
       "    <tr>\n",
       "      <th>17</th>\n",
       "      <td>Q2_90</td>\n",
       "      <td>2739.307999</td>\n",
       "    </tr>\n",
       "    <tr>\n",
       "      <th>18</th>\n",
       "      <td>Q3_90</td>\n",
       "      <td>2792.753998</td>\n",
       "    </tr>\n",
       "    <tr>\n",
       "      <th>19</th>\n",
       "      <td>Q4_90</td>\n",
       "      <td>2556.009995</td>\n",
       "    </tr>\n",
       "    <tr>\n",
       "      <th>20</th>\n",
       "      <td>Q1_91</td>\n",
       "      <td>2480.973999</td>\n",
       "    </tr>\n",
       "    <tr>\n",
       "      <th>21</th>\n",
       "      <td>Q2_91</td>\n",
       "      <td>3039.522995</td>\n",
       "    </tr>\n",
       "    <tr>\n",
       "      <th>22</th>\n",
       "      <td>Q3_91</td>\n",
       "      <td>3172.115997</td>\n",
       "    </tr>\n",
       "    <tr>\n",
       "      <th>23</th>\n",
       "      <td>Q4_91</td>\n",
       "      <td>2879.000999</td>\n",
       "    </tr>\n",
       "    <tr>\n",
       "      <th>24</th>\n",
       "      <td>Q1_92</td>\n",
       "      <td>2772.000000</td>\n",
       "    </tr>\n",
       "    <tr>\n",
       "      <th>25</th>\n",
       "      <td>Q2_92</td>\n",
       "      <td>3550.000000</td>\n",
       "    </tr>\n",
       "    <tr>\n",
       "      <th>26</th>\n",
       "      <td>Q3_92</td>\n",
       "      <td>3508.000000</td>\n",
       "    </tr>\n",
       "    <tr>\n",
       "      <th>27</th>\n",
       "      <td>Q4_92</td>\n",
       "      <td>3243.859993</td>\n",
       "    </tr>\n",
       "    <tr>\n",
       "      <th>28</th>\n",
       "      <td>Q1_93</td>\n",
       "      <td>3056.000000</td>\n",
       "    </tr>\n",
       "    <tr>\n",
       "      <th>29</th>\n",
       "      <td>Q2_93</td>\n",
       "      <td>3899.000000</td>\n",
       "    </tr>\n",
       "    <tr>\n",
       "      <th>30</th>\n",
       "      <td>Q3_93</td>\n",
       "      <td>3629.000000</td>\n",
       "    </tr>\n",
       "    <tr>\n",
       "      <th>31</th>\n",
       "      <td>Q4_93</td>\n",
       "      <td>3373.000000</td>\n",
       "    </tr>\n",
       "    <tr>\n",
       "      <th>32</th>\n",
       "      <td>Q1_94</td>\n",
       "      <td>3352.000000</td>\n",
       "    </tr>\n",
       "    <tr>\n",
       "      <th>33</th>\n",
       "      <td>Q2_94</td>\n",
       "      <td>4342.000000</td>\n",
       "    </tr>\n",
       "    <tr>\n",
       "      <th>34</th>\n",
       "      <td>Q3_94</td>\n",
       "      <td>4461.000000</td>\n",
       "    </tr>\n",
       "    <tr>\n",
       "      <th>35</th>\n",
       "      <td>Q4_94</td>\n",
       "      <td>4017.000000</td>\n",
       "    </tr>\n",
       "    <tr>\n",
       "      <th>36</th>\n",
       "      <td>Q1_95</td>\n",
       "      <td>3854.000000</td>\n",
       "    </tr>\n",
       "    <tr>\n",
       "      <th>37</th>\n",
       "      <td>Q2_95</td>\n",
       "      <td>4936.000000</td>\n",
       "    </tr>\n",
       "    <tr>\n",
       "      <th>38</th>\n",
       "      <td>Q3_95</td>\n",
       "      <td>4895.000000</td>\n",
       "    </tr>\n",
       "    <tr>\n",
       "      <th>39</th>\n",
       "      <td>Q4_95</td>\n",
       "      <td>4333.000000</td>\n",
       "    </tr>\n",
       "    <tr>\n",
       "      <th>40</th>\n",
       "      <td>Q1_96</td>\n",
       "      <td>4194.000000</td>\n",
       "    </tr>\n",
       "    <tr>\n",
       "      <th>41</th>\n",
       "      <td>Q2_96</td>\n",
       "      <td>5253.000000</td>\n",
       "    </tr>\n",
       "  </tbody>\n",
       "</table>\n",
       "</div>"
      ],
      "text/plain": [
       "   Quarter        Sales\n",
       "0    Q1_86  1734.827000\n",
       "1    Q2_86  2244.960999\n",
       "2    Q3_86  2533.804993\n",
       "3    Q4_86  2154.962997\n",
       "4    Q1_87  1547.818996\n",
       "5    Q2_87  2104.411995\n",
       "6    Q3_87  2014.362999\n",
       "7    Q4_87  1991.746998\n",
       "8    Q1_88  1869.049999\n",
       "9    Q2_88  2313.631996\n",
       "10   Q3_88  2128.320000\n",
       "11   Q4_88  2026.828999\n",
       "12   Q1_89  1910.603996\n",
       "13   Q2_89  2331.164993\n",
       "14   Q3_89  2206.549995\n",
       "15   Q4_89  2173.967995\n",
       "16   Q1_90  2148.278000\n",
       "17   Q2_90  2739.307999\n",
       "18   Q3_90  2792.753998\n",
       "19   Q4_90  2556.009995\n",
       "20   Q1_91  2480.973999\n",
       "21   Q2_91  3039.522995\n",
       "22   Q3_91  3172.115997\n",
       "23   Q4_91  2879.000999\n",
       "24   Q1_92  2772.000000\n",
       "25   Q2_92  3550.000000\n",
       "26   Q3_92  3508.000000\n",
       "27   Q4_92  3243.859993\n",
       "28   Q1_93  3056.000000\n",
       "29   Q2_93  3899.000000\n",
       "30   Q3_93  3629.000000\n",
       "31   Q4_93  3373.000000\n",
       "32   Q1_94  3352.000000\n",
       "33   Q2_94  4342.000000\n",
       "34   Q3_94  4461.000000\n",
       "35   Q4_94  4017.000000\n",
       "36   Q1_95  3854.000000\n",
       "37   Q2_95  4936.000000\n",
       "38   Q3_95  4895.000000\n",
       "39   Q4_95  4333.000000\n",
       "40   Q1_96  4194.000000\n",
       "41   Q2_96  5253.000000"
      ]
     },
     "execution_count": 45,
     "metadata": {},
     "output_type": "execute_result"
    }
   ],
   "source": [
    "store"
   ]
  },
  {
   "cell_type": "code",
   "execution_count": 46,
   "id": "aff3a410",
   "metadata": {},
   "outputs": [
    {
     "data": {
      "text/html": [
       "<div>\n",
       "<style scoped>\n",
       "    .dataframe tbody tr th:only-of-type {\n",
       "        vertical-align: middle;\n",
       "    }\n",
       "\n",
       "    .dataframe tbody tr th {\n",
       "        vertical-align: top;\n",
       "    }\n",
       "\n",
       "    .dataframe thead th {\n",
       "        text-align: right;\n",
       "    }\n",
       "</style>\n",
       "<table border=\"1\" class=\"dataframe\">\n",
       "  <thead>\n",
       "    <tr style=\"text-align: right;\">\n",
       "      <th></th>\n",
       "      <th>Quarter</th>\n",
       "      <th>Sales</th>\n",
       "    </tr>\n",
       "  </thead>\n",
       "  <tbody>\n",
       "    <tr>\n",
       "      <th>0</th>\n",
       "      <td>Q1_86</td>\n",
       "      <td>1734.827000</td>\n",
       "    </tr>\n",
       "    <tr>\n",
       "      <th>1</th>\n",
       "      <td>Q2_86</td>\n",
       "      <td>2244.960999</td>\n",
       "    </tr>\n",
       "    <tr>\n",
       "      <th>2</th>\n",
       "      <td>Q3_86</td>\n",
       "      <td>2533.804993</td>\n",
       "    </tr>\n",
       "    <tr>\n",
       "      <th>3</th>\n",
       "      <td>Q4_86</td>\n",
       "      <td>2154.962997</td>\n",
       "    </tr>\n",
       "    <tr>\n",
       "      <th>4</th>\n",
       "      <td>Q1_87</td>\n",
       "      <td>1547.818996</td>\n",
       "    </tr>\n",
       "  </tbody>\n",
       "</table>\n",
       "</div>"
      ],
      "text/plain": [
       "  Quarter        Sales\n",
       "0   Q1_86  1734.827000\n",
       "1   Q2_86  2244.960999\n",
       "2   Q3_86  2533.804993\n",
       "3   Q4_86  2154.962997\n",
       "4   Q1_87  1547.818996"
      ]
     },
     "execution_count": 46,
     "metadata": {},
     "output_type": "execute_result"
    }
   ],
   "source": [
    "store.head()"
   ]
  },
  {
   "cell_type": "code",
   "execution_count": 47,
   "id": "d6852c35",
   "metadata": {},
   "outputs": [],
   "source": [
    "quarter=['Q1','Q2','Q3','Q4']\n",
    "n=store['Quarter'][0]\n",
    "n[0:2]\n",
    "\n",
    "store['quarter']=0"
   ]
  },
  {
   "cell_type": "code",
   "execution_count": 48,
   "id": "ea1f647b",
   "metadata": {},
   "outputs": [],
   "source": [
    "for i in range(42):\n",
    "    n=store['Quarter'][i]\n",
    "    store['quarter'][i]=n[0:2]\n"
   ]
  },
  {
   "cell_type": "code",
   "execution_count": 49,
   "id": "254fbd62",
   "metadata": {},
   "outputs": [],
   "source": [
    "dummy=pd.DataFrame(pd.get_dummies(store['quarter']))\n"
   ]
  },
  {
   "cell_type": "code",
   "execution_count": 50,
   "id": "16693e1f",
   "metadata": {},
   "outputs": [],
   "source": [
    "coco=pd.concat((store,dummy),axis=1)\n",
    "t= np.arange(1,43)\n",
    "coco['t']=t\n",
    "coco['t_square']=coco['t']*coco['t']\n"
   ]
  },
  {
   "cell_type": "code",
   "execution_count": 51,
   "id": "ec22e014",
   "metadata": {},
   "outputs": [],
   "source": [
    "log_Sales=np.log(coco['Sales'])\n",
    "coco['log_Sales']=log_Sales\n"
   ]
  },
  {
   "cell_type": "code",
   "execution_count": 52,
   "id": "3ea113fc",
   "metadata": {},
   "outputs": [
    {
     "data": {
      "text/plain": [
       "<AxesSubplot:>"
      ]
     },
     "execution_count": 52,
     "metadata": {},
     "output_type": "execute_result"
    },
    {
     "data": {
      "image/png": "[encoded data removed]",
      "text/plain": [
       "<Figure size 432x288 with 1 Axes>"
      ]
     },
     "metadata": {
      "needs_background": "light"
     },
     "output_type": "display_data"
    }
   ],
   "source": [
    "train= coco.head(38)\n",
    "test=coco.tail(4)\n",
    "coco.Sales.plot()\n"
   ]
  },
  {
   "cell_type": "code",
   "execution_count": 53,
   "id": "da2df63d",
   "metadata": {},
   "outputs": [],
   "source": [
    "import statsmodels.formula.api as smf\n"
   ]
  },
  {
   "cell_type": "code",
   "execution_count": 54,
   "id": "d7cb0466",
   "metadata": {},
   "outputs": [
    {
     "data": {
      "text/plain": [
       "421.17878760022813"
      ]
     },
     "execution_count": 54,
     "metadata": {},
     "output_type": "execute_result"
    }
   ],
   "source": [
    "#linear model\n",
    "linear= smf.ols('Sales~t',data=train).fit()\n",
    "predlin=pd.Series(linear.predict(pd.DataFrame(test['t'])))\n",
    "rmselin=np.sqrt((np.mean(np.array(test['Sales'])-np.array(predlin))**2))\n",
    "rmselin\n"
   ]
  },
  {
   "cell_type": "code",
   "execution_count": 55,
   "id": "2b8bbcae",
   "metadata": {},
   "outputs": [
    {
     "data": {
      "text/plain": [
       "475.56183518315095"
      ]
     },
     "execution_count": 55,
     "metadata": {},
     "output_type": "execute_result"
    }
   ],
   "source": [
    "#quadratic model\n",
    "quad=smf.ols('Sales~t+t_square',data=train).fit()\n",
    "predquad=pd.Series(quad.predict(pd.DataFrame(test[['t','t_square']])))\n",
    "rmsequad=np.sqrt(np.mean((np.array(test['Sales'])-np.array(predquad))**2))\n",
    "rmsequad\n"
   ]
  },
  {
   "cell_type": "code",
   "execution_count": 56,
   "id": "bfb8eed1",
   "metadata": {},
   "outputs": [
    {
     "data": {
      "text/plain": [
       "466.24797310672346"
      ]
     },
     "execution_count": 56,
     "metadata": {},
     "output_type": "execute_result"
    }
   ],
   "source": [
    "#exponential model\n",
    "expo=smf.ols('log_Sales~t',data=train).fit()\n",
    "predexp=pd.Series(expo.predict(pd.DataFrame(test['t'])))\n",
    "predexp\n",
    "rmseexpo=np.sqrt(np.mean((np.array(test['Sales'])-np.array(np.exp(predexp)))**2))\n",
    "rmseexpo\n"
   ]
  },
  {
   "cell_type": "code",
   "execution_count": 57,
   "id": "173e2366",
   "metadata": {},
   "outputs": [
    {
     "data": {
      "text/plain": [
       "1860.0238154547283"
      ]
     },
     "execution_count": 57,
     "metadata": {},
     "output_type": "execute_result"
    }
   ],
   "source": [
    "#additive seasonality\n",
    "additive= smf.ols('Sales~ Q1+Q2+Q3+Q4',data=train).fit()\n",
    "predadd=pd.Series(additive.predict(pd.DataFrame(test[['Q1','Q2','Q3','Q4']])))\n",
    "predadd\n",
    "rmseadd=np.sqrt(np.mean((np.array(test['Sales'])-np.array(predadd))**2))\n",
    "rmseadd\n"
   ]
  },
  {
   "cell_type": "code",
   "execution_count": 58,
   "id": "1d1abc05",
   "metadata": {},
   "outputs": [
    {
     "data": {
      "text/plain": [
       "464.98290239822427"
      ]
     },
     "execution_count": 58,
     "metadata": {},
     "output_type": "execute_result"
    }
   ],
   "source": [
    "#additive seasonality with linear trend\n",
    "addlinear= smf.ols('Sales~t+Q1+Q2+Q3+Q4',data=train).fit()\n",
    "predaddlinear=pd.Series(addlinear.predict(pd.DataFrame(test[['t','Q1','Q2','Q3','Q4']])))\n",
    "predaddlinear\n",
    "\n",
    "rmseaddlinear=np.sqrt(np.mean((np.array(test['Sales'])-np.array(predaddlinear))**2))\n",
    "rmseaddlinear\n"
   ]
  },
  {
   "cell_type": "code",
   "execution_count": 59,
   "id": "23c40471",
   "metadata": {},
   "outputs": [
    {
     "data": {
      "text/plain": [
       "301.73800719352977"
      ]
     },
     "execution_count": 59,
     "metadata": {},
     "output_type": "execute_result"
    }
   ],
   "source": [
    "#additive seasonality with quadratic trend\n",
    "addquad=smf.ols('Sales~t+t_square+Q1+Q2+Q3+Q4',data=train).fit()\n",
    "predaddquad=pd.Series(addquad.predict(pd.DataFrame(test[['t','t_square','Q1','Q2','Q3','Q4']])))\n",
    "rmseaddquad=np.sqrt(np.mean((np.array(test['Sales'])-np.array(predaddquad))**2))\n",
    "rmseaddquad\n"
   ]
  },
  {
   "cell_type": "code",
   "execution_count": 60,
   "id": "30afdd49",
   "metadata": {},
   "outputs": [
    {
     "data": {
      "text/plain": [
       "1963.3896400779709"
      ]
     },
     "execution_count": 60,
     "metadata": {},
     "output_type": "execute_result"
    }
   ],
   "source": [
    "#multiplicative seasonality\n",
    "mulsea=smf.ols('log_Sales~Q1+Q2+Q3+Q4',data=train).fit()\n",
    "predmul= pd.Series(mulsea.predict(pd.DataFrame(test[['Q1','Q2','Q3','Q4']])))\n",
    "rmsemul= np.sqrt(np.mean((np.array(test['Sales'])-np.array(np.exp(predmul)))**2))\n",
    "rmsemul\n"
   ]
  },
  {
   "cell_type": "code",
   "execution_count": 61,
   "id": "f96ba7e7",
   "metadata": {},
   "outputs": [
    {
     "data": {
      "text/plain": [
       "225.5243904982721"
      ]
     },
     "execution_count": 61,
     "metadata": {},
     "output_type": "execute_result"
    }
   ],
   "source": [
    "#multiplicative seasonality with linear trend\n",
    "mullin= smf.ols('log_Sales~t+Q1+Q2+Q3+Q4',data=train).fit()\n",
    "predmullin= pd.Series(mullin.predict(pd.DataFrame(test[['t','Q1','Q2','Q3','Q4']])))\n",
    "rmsemulin=np.sqrt(np.mean((np.array(test['Sales'])-np.array(np.exp(predmullin)))**2))\n",
    "rmsemulin"
   ]
  },
  {
   "cell_type": "code",
   "execution_count": 62,
   "id": "065134dd",
   "metadata": {},
   "outputs": [
    {
     "data": {
      "text/plain": [
       "581.8457187971785"
      ]
     },
     "execution_count": 62,
     "metadata": {},
     "output_type": "execute_result"
    }
   ],
   "source": [
    "#multiplicative seasonality with quadratic trend\n",
    "mul_quad= smf.ols('log_Sales~t+t_square+Q1+Q2+Q3+Q4',data=train).fit()\n",
    "pred_mul_quad= pd.Series(mul_quad.predict(test[['t','t_square','Q1','Q2','Q3','Q4']]))\n",
    "rmse_mul_quad=np.sqrt(np.mean((np.array(test['Sales'])-np.array(np.exp(pred_mul_quad)))**2))\n",
    "rmse_mul_quad\n"
   ]
  },
  {
   "cell_type": "code",
   "execution_count": 63,
   "id": "c68f871d",
   "metadata": {},
   "outputs": [
    {
     "data": {
      "text/plain": [
       "{'Model': 0    rmse_mul_quad\n",
       " 1          rmseadd\n",
       " 2    rmseaddlinear\n",
       " 3      rmseaddquad\n",
       " 4         rmseexpo\n",
       " 5          rmselin\n",
       " 6          rmsemul\n",
       " 7        rmsemulin\n",
       " 8         rmsequad\n",
       " dtype: object,\n",
       " 'Values': 0     581.845719\n",
       " 1    1860.023815\n",
       " 2     464.982902\n",
       " 3     301.738007\n",
       " 4     466.247973\n",
       " 5     421.178788\n",
       " 6    1963.389640\n",
       " 7     225.524390\n",
       " 8     475.561835\n",
       " dtype: float64}"
      ]
     },
     "execution_count": 63,
     "metadata": {},
     "output_type": "execute_result"
    }
   ],
   "source": [
    "#tabulating the rmse values\n",
    "\n",
    "data={'Model':pd.Series(['rmse_mul_quad','rmseadd','rmseaddlinear','rmseaddquad','rmseexpo','rmselin','rmsemul','rmsemulin','rmsequad']),'Values':pd.Series([rmse_mul_quad,rmseadd,rmseaddlinear,rmseaddquad,rmseexpo,rmselin,rmsemul,rmsemulin,rmsequad])}\n",
    "data"
   ]
  },
  {
   "cell_type": "code",
   "execution_count": 64,
   "id": "73846894",
   "metadata": {},
   "outputs": [
    {
     "data": {
      "text/html": [
       "<div>\n",
       "<style scoped>\n",
       "    .dataframe tbody tr th:only-of-type {\n",
       "        vertical-align: middle;\n",
       "    }\n",
       "\n",
       "    .dataframe tbody tr th {\n",
       "        vertical-align: top;\n",
       "    }\n",
       "\n",
       "    .dataframe thead th {\n",
       "        text-align: right;\n",
       "    }\n",
       "</style>\n",
       "<table border=\"1\" class=\"dataframe\">\n",
       "  <thead>\n",
       "    <tr style=\"text-align: right;\">\n",
       "      <th></th>\n",
       "      <th>Model</th>\n",
       "      <th>Values</th>\n",
       "    </tr>\n",
       "  </thead>\n",
       "  <tbody>\n",
       "    <tr>\n",
       "      <th>0</th>\n",
       "      <td>rmse_mul_quad</td>\n",
       "      <td>581.845719</td>\n",
       "    </tr>\n",
       "    <tr>\n",
       "      <th>1</th>\n",
       "      <td>rmseadd</td>\n",
       "      <td>1860.023815</td>\n",
       "    </tr>\n",
       "    <tr>\n",
       "      <th>2</th>\n",
       "      <td>rmseaddlinear</td>\n",
       "      <td>464.982902</td>\n",
       "    </tr>\n",
       "    <tr>\n",
       "      <th>3</th>\n",
       "      <td>rmseaddquad</td>\n",
       "      <td>301.738007</td>\n",
       "    </tr>\n",
       "    <tr>\n",
       "      <th>4</th>\n",
       "      <td>rmseexpo</td>\n",
       "      <td>466.247973</td>\n",
       "    </tr>\n",
       "    <tr>\n",
       "      <th>5</th>\n",
       "      <td>rmselin</td>\n",
       "      <td>421.178788</td>\n",
       "    </tr>\n",
       "    <tr>\n",
       "      <th>6</th>\n",
       "      <td>rmsemul</td>\n",
       "      <td>1963.389640</td>\n",
       "    </tr>\n",
       "    <tr>\n",
       "      <th>7</th>\n",
       "      <td>rmsemulin</td>\n",
       "      <td>225.524390</td>\n",
       "    </tr>\n",
       "    <tr>\n",
       "      <th>8</th>\n",
       "      <td>rmsequad</td>\n",
       "      <td>475.561835</td>\n",
       "    </tr>\n",
       "  </tbody>\n",
       "</table>\n",
       "</div>"
      ],
      "text/plain": [
       "           Model       Values\n",
       "0  rmse_mul_quad   581.845719\n",
       "1        rmseadd  1860.023815\n",
       "2  rmseaddlinear   464.982902\n",
       "3    rmseaddquad   301.738007\n",
       "4       rmseexpo   466.247973\n",
       "5        rmselin   421.178788\n",
       "6        rmsemul  1963.389640\n",
       "7      rmsemulin   225.524390\n",
       "8       rmsequad   475.561835"
      ]
     },
     "execution_count": 64,
     "metadata": {},
     "output_type": "execute_result"
    }
   ],
   "source": [
    "Rmse=pd.DataFrame(data)\n",
    "Rmse\n"
   ]
  },
  {
   "cell_type": "code",
   "execution_count": 65,
   "id": "8fc0cfb5",
   "metadata": {},
   "outputs": [
    {
     "data": {
      "text/plain": [
       "<AxesSubplot:xlabel='Sales'>"
      ]
     },
     "execution_count": 65,
     "metadata": {},
     "output_type": "execute_result"
    },
    {
     "data": {
      "image/png": "[encoded data removed]",
      "text/plain": [
       "<Figure size 432x288 with 1 Axes>"
      ]
     },
     "metadata": {
      "needs_background": "light"
     },
     "output_type": "display_data"
    }
   ],
   "source": [
    "sns.boxplot(\"Sales\",data=store)\n"
   ]
  },
  {
   "cell_type": "code",
   "execution_count": 66,
   "id": "268de909",
   "metadata": {},
   "outputs": [
    {
     "data": {
      "text/plain": [
       "<seaborn.axisgrid.FacetGrid at 0x7fc86042e5b0>"
      ]
     },
     "execution_count": 66,
     "metadata": {},
     "output_type": "execute_result"
    },
    {
     "data": {
      "image/png": "[encoded data removed]",
      "text/plain": [
       "<Figure size 360x360 with 1 Axes>"
      ]
     },
     "metadata": {
      "needs_background": "light"
     },
     "output_type": "display_data"
    }
   ],
   "source": [
    "sns.factorplot(\"Quarter\",\"Sales\",data=store,kind=\"box\")\n"
   ]
  },
  {
   "cell_type": "code",
   "execution_count": 67,
   "id": "fce80001",
   "metadata": {},
   "outputs": [
    {
     "data": {
      "text/plain": [
       "<matplotlib.legend.Legend at 0x7fc8625863d0>"
      ]
     },
     "execution_count": 67,
     "metadata": {},
     "output_type": "execute_result"
    },
    {
     "data": {
      "image/png": "[encoded data removed]",
      "text/plain": [
       "<Figure size 432x288 with 1 Axes>"
      ]
     },
     "metadata": {
      "needs_background": "light"
     },
     "output_type": "display_data"
    }
   ],
   "source": [
    "store.Sales.plot(label=\"org\")\n",
    "for i in range(2,10,2):\n",
    "    store[\"Sales\"].rolling(i).mean().plot(label=str(i))\n",
    "plt.legend(loc=3)"
   ]
  },
  {
   "cell_type": "code",
   "execution_count": 68,
   "id": "07f80dfc",
   "metadata": {},
   "outputs": [],
   "source": [
    "import statsmodels.api as sm\n",
    "from statsmodels.tsa.seasonal import seasonal_decompose\n",
    "from statsmodels.tsa.holtwinters import SimpleExpSmoothing # SES\n",
    "from statsmodels.tsa.holtwinters import Holt # Holts Exponential Smoothing\n",
    "from statsmodels.tsa.holtwinters import ExponentialSmoothing # \n",
    "import statsmodels.graphics.tsaplots as tsa_plots\n",
    "import statsmodels.tsa.statespace as tm_models\n",
    "from datetime import datetime,time"
   ]
  },
  {
   "cell_type": "code",
   "execution_count": 69,
   "id": "e1a235e1",
   "metadata": {},
   "outputs": [
    {
     "data": {
      "image/png": "[encoded data removed]",
      "text/plain": [
       "<Figure size 432x288 with 1 Axes>"
      ]
     },
     "execution_count": 69,
     "metadata": {},
     "output_type": "execute_result"
    },
    {
     "data": {
      "image/png": "[encoded data removed]",
      "text/plain": [
       "<Figure size 432x288 with 1 Axes>"
      ]
     },
     "metadata": {
      "needs_background": "light"
     },
     "output_type": "display_data"
    },
    {
     "data": {
      "image/png": "[encoded data removed]",
      "text/plain": [
       "<Figure size 432x288 with 1 Axes>"
      ]
     },
     "metadata": {
      "needs_background": "light"
     },
     "output_type": "display_data"
    }
   ],
   "source": [
    "# ACF plots and PACF plots on Original data sets \n",
    "tsa_plots.plot_acf(store.Sales,lags=10)\n",
    "tsa_plots.plot_pacf(store.Sales)"
   ]
  },
  {
   "cell_type": "code",
   "execution_count": 70,
   "id": "da7ceb86",
   "metadata": {},
   "outputs": [],
   "source": [
    "Train = store.head(48)\n",
    "Test =store.tail(12)"
   ]
  },
  {
   "cell_type": "code",
   "execution_count": 71,
   "id": "e2c559e8",
   "metadata": {},
   "outputs": [],
   "source": [
    "# Creating a function to calculate the MAPE value for test data \n",
    "def MAPE(pred,org):\n",
    "    temp = np.abs((pred-org))*100/org\n",
    "    return np.mean(temp)"
   ]
  },
  {
   "cell_type": "code",
   "execution_count": 72,
   "id": "7582f508",
   "metadata": {},
   "outputs": [
    {
     "data": {
      "text/plain": [
       "9.76509353877614"
      ]
     },
     "execution_count": 72,
     "metadata": {},
     "output_type": "execute_result"
    }
   ],
   "source": [
    "# Simple Exponential Method\n",
    "ses_model = SimpleExpSmoothing(Train[\"Sales\"]).fit()\n",
    "pred_ses = ses_model.predict(start = Test.index[0],end = Test.index[-1])\n",
    "MAPE(pred_ses,Test.Sales) "
   ]
  },
  {
   "cell_type": "code",
   "execution_count": 73,
   "id": "cd058d79",
   "metadata": {},
   "outputs": [
    {
     "data": {
      "text/plain": [
       "11.025174865761135"
      ]
     },
     "execution_count": 73,
     "metadata": {},
     "output_type": "execute_result"
    }
   ],
   "source": [
    "# Holt method \n",
    "hw_model = Holt(Train[\"Sales\"]).fit()\n",
    "pred_hw = hw_model.predict(start = Test.index[0],end = Test.index[-1])\n",
    "MAPE(pred_hw,Test.Sales)"
   ]
  },
  {
   "cell_type": "code",
   "execution_count": 74,
   "id": "0d4a5489",
   "metadata": {},
   "outputs": [
    {
     "data": {
      "text/plain": [
       "3.584209957369165"
      ]
     },
     "execution_count": 74,
     "metadata": {},
     "output_type": "execute_result"
    }
   ],
   "source": [
    "# Holts winter exponential smoothing with additive seasonality and additive trend\n",
    "hwe_model_add_add = ExponentialSmoothing(Train[\"Sales\"],seasonal=\"add\",trend=\"add\",seasonal_periods=4,damped=True).fit()\n",
    "pred_hwe_add_add = hwe_model_add_add.predict(start = Test.index[0],end = Test.index[-1])\n",
    "MAPE(pred_hwe_add_add,Test.Sales)#"
   ]
  },
  {
   "cell_type": "code",
   "execution_count": 75,
   "id": "16ec1d9f",
   "metadata": {},
   "outputs": [
    {
     "data": {
      "text/plain": [
       "2.5066037675776704"
      ]
     },
     "execution_count": 75,
     "metadata": {},
     "output_type": "execute_result"
    }
   ],
   "source": [
    "# Holts winter exponential smoothing with multiplicative seasonality and additive trend\n",
    "hwe_model_mul_add = ExponentialSmoothing(Train[\"Sales\"],seasonal=\"mul\",trend=\"add\",seasonal_periods=4).fit()\n",
    "pred_hwe_mul_add = hwe_model_mul_add.predict(start = Test.index[0],end = Test.index[-1])\n",
    "MAPE(pred_hwe_mul_add,Test.Sales)"
   ]
  },
  {
   "cell_type": "code",
   "execution_count": 76,
   "id": "437e0d41",
   "metadata": {},
   "outputs": [
    {
     "data": {
      "text/plain": [
       "<matplotlib.legend.Legend at 0x7fc85fee6250>"
      ]
     },
     "execution_count": 76,
     "metadata": {},
     "output_type": "execute_result"
    },
    {
     "data": {
      "image/png": "[encoded data removed]",
      "text/plain": [
       "<Figure size 432x288 with 1 Axes>"
      ]
     },
     "metadata": {
      "needs_background": "light"
     },
     "output_type": "display_data"
    }
   ],
   "source": [
    "# Visualization of Forecasted values for Test data set using different methods \n",
    "plt.plot(Train.index, Train[\"Sales\"], label='Train',color=\"black\")\n",
    "plt.plot(Test.index, Test[\"Sales\"], label='Test',color=\"blue\")\n",
    "plt.plot(pred_ses.index, pred_ses, label='SimpleExponential',color=\"green\")\n",
    "plt.plot(pred_hw.index, pred_hw, label='Holts_winter',color=\"red\")\n",
    "plt.plot(pred_hwe_add_add.index,pred_hwe_add_add,label=\"HoltsWinterExponential_1\",color=\"brown\")\n",
    "plt.plot(pred_hwe_mul_add.index,pred_hwe_mul_add,label=\"HoltsWinterExponential_2\",color=\"yellow\")\n",
    "plt.legend(loc='best')\n"
   ]
  },
  {
   "cell_type": "code",
   "execution_count": 77,
   "id": "ca510a40",
   "metadata": {},
   "outputs": [],
   "source": [
    "hwe_model_add_add = ExponentialSmoothing(store[\"Sales\"],seasonal=\"add\",trend=\"add\",seasonal_periods=4).fit() #add the trend to the model\n"
   ]
  },
  {
   "cell_type": "code",
   "execution_count": 78,
   "id": "6c1913a6",
   "metadata": {},
   "outputs": [
    {
     "data": {
      "text/plain": [
       "42    5153.924224\n",
       "43    4693.659844\n",
       "44    4612.987436\n",
       "45    5629.715970\n",
       "46    5536.407253\n",
       "47    5076.142873\n",
       "48    4995.470465\n",
       "49    6012.198999\n",
       "50    5918.890282\n",
       "51    5458.625902\n",
       "dtype: float64"
      ]
     },
     "execution_count": 78,
     "metadata": {},
     "output_type": "execute_result"
    }
   ],
   "source": [
    "hwe_model_add_add.forecast(10)\n"
   ]
  },
  {
   "cell_type": "code",
   "execution_count": null,
   "id": "234d8288",
   "metadata": {},
   "outputs": [],
   "source": []
  }
 ],
 "metadata": {
  "kernelspec": {
   "display_name": "Python 3 (ipykernel)",
   "language": "python",
   "name": "python3"
  },
  "language_info": {
   "codemirror_mode": {
    "name": "ipython",
    "version": 3
   },
   "file_extension": ".py",
   "mimetype": "text/x-python",
   "name": "python",
   "nbconvert_exporter": "python",
   "pygments_lexer": "ipython3",
   "version": "3.9.12"
  }
 },
 "nbformat": 4,
 "nbformat_minor": 5
}
